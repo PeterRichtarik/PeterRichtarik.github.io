{
 "cells": [
  {
   "cell_type": "markdown",
   "metadata": {},
   "source": [
    "# Randomized Algorithms for Linear Systems\n",
    "\n",
    "All the labs will be in the Julia language. Think of Julia as a language which is nearly as fast as C, while being as easy to work with as MATLAB. Presumably most of you have not worked with Julia before - do not worry about it, you will pick it up during the course. \n",
    "\n",
    "In this lab, the randomized iterative method of Gower and Richtarik for solving linear systems has been coded up for you. We are using the Julia notebook interface - the notebook is composed of three cell types: heading, markdown (containing text and LaTeX, such as this cell) and code (contaning actual Julia code that can be executed). You can execute each active \"cell\" by pressing the play button in the menu above, or by pressing \"shift + enter\". The cells in this notebook need to be executed in order.\n",
    "\n",
    "Play with the code and try to see what it does. There will be some exercices at the end. Do at least one - there will be no time to do (much) more than that in the lab. However, feel free to work on the other exercises at home."
   ]
  },
  {
   "cell_type": "markdown",
   "metadata": {},
   "source": [
    "## 1. Generate data\n",
    "\n",
    "We first generate an $m\\times n$ matrix $A$, then a random vector $x^*$ ($\\verb\"x_star\"$) and finally, set $b = A x^*$. This way we will know the system we have generated is consistent (i.e., that it has a solution).\n",
    "\n",
    "## 1.1 Silly synthetic data"
   ]
  },
  {
   "cell_type": "code",
   "execution_count": 84,
   "metadata": {
    "collapsed": false
   },
   "outputs": [
    {
     "data": {
      "text/plain": [
       "1000x1 Array{Float64,2}:\n",
       "  -0.153183\n",
       "  -2.34837 \n",
       "  -7.07596 \n",
       "   8.9659  \n",
       "  17.1319  \n",
       "  -9.09333 \n",
       "  -0.850716\n",
       "  11.3664  \n",
       "   2.15202 \n",
       "  11.7419  \n",
       "  -3.82589 \n",
       "   4.54637 \n",
       "   8.67222 \n",
       "   ⋮       \n",
       "   6.10183 \n",
       "   3.29236 \n",
       "  -3.43715 \n",
       " -15.9092  \n",
       "  -3.23675 \n",
       "  -0.271846\n",
       "  -9.24254 \n",
       "   7.46836 \n",
       "  -6.5396  \n",
       "  -6.30701 \n",
       "   3.54236 \n",
       "  -7.0734  "
      ]
     },
     "execution_count": 84,
     "metadata": {},
     "output_type": "execute_result"
    }
   ],
   "source": [
    "srand(1) # set random seed to 1\n",
    "\n",
    "m = 1000\n",
    "n = 50\n",
    "\n",
    "# Generate random matrix A\n",
    "\n",
    "A = randn(m,n) # A has random standard normal entries. For uniform entries on [0,1], use rand() \n",
    "x_star = randn(n)\n",
    "b = A*x_star\n",
    "\n",
    "# Generate solution and the right hand side\n",
    "\n",
    "xopt = ones(n,1)\n",
    "b = A*xopt"
   ]
  },
  {
   "cell_type": "markdown",
   "metadata": {},
   "source": [
    "## 1.2 Smarter synthetic data (good for randomized Kaczmarz)\n",
    "\n",
    "We now generate a matrix $A\\in \\mathbb{R}^{m\\times n}$ such that the randomized Kaczmarz rate \n",
    "\n",
    "$$\\rho =1 - \\frac{\\lambda_{min}(A^TA)}{\\|A\\|_F^2} = 1 - \\frac{\\lambda_{min}(A^TA)}{Tr(A^TA)}$$ \n",
    "\n",
    "is under control. Specifically, we shall select the eigenvalues of $A^T A$ first, and then construct a random matrix $A\\in \\mathbb{R}^{m\\times n}$ whose spectrum is fixed this way.\n",
    "\n",
    "\n",
    "The trick is to assemble $A$ via its SVD (singular value decomposition): \n",
    "\n",
    "$$A = U D V^T,$$\n",
    "\n",
    "where $U\\in \\mathbb{R}^{m\\times m}$ and $V\\in \\mathbb{R}^{n \\times n}$ are orthonormal matrices and $D\\in \\mathbb{R}^{m\\times n}$ is diagonal (that is, $D_{ij}=0$ for $i\\neq j$). Note that given the SVD, we have \n",
    "\n",
    "$$A^T A = V D^T D V^T,$$  \n",
    "\n",
    "and hence the eigenvalues of $A^T A$ are $D_{ii}^2$ for $i=1,2,\\dots, \\min\\{m,n\\}$. Hence, \n",
    "\n",
    "$$\\rho = 1 - \\frac{\\min_i D_{ii}^2}{\\sum_{i} D_{ii}^2}.$$\n",
    "\n",
    "So, we first generate the eigenvalues $D_{ii}^2$, and then generate two random orthoginal matrices $U\\in \\mathbb{R}^{m\\times m}$ and $V\\in \\mathbb{R}^{n\\times n}$ by performing a QR decomposition of random matrices of appropriate sizes. After this, we simply assemble $A$ from these three components via $A = U D V^T$.\n"
   ]
  },
  {
   "cell_type": "code",
   "execution_count": 75,
   "metadata": {
    "collapsed": false
   },
   "outputs": [
    {
     "name": "stdout",
     "output_type": "stream",
     "text": [
      "rho = 0.9818054911530927\n"
     ]
    },
    {
     "data": {
      "text/plain": [
       "1000-element Array{Float64,1}:\n",
       "  2.59111   \n",
       " -0.556459  \n",
       " -0.17882   \n",
       "  0.402689  \n",
       " -0.278817  \n",
       " -2.70223   \n",
       " -0.263991  \n",
       " -2.0643    \n",
       " -0.179974  \n",
       "  1.89966   \n",
       " -2.52629   \n",
       " -3.90315   \n",
       " -1.5513    \n",
       "  ⋮         \n",
       " -0.985235  \n",
       "  1.56159   \n",
       "  4.84442   \n",
       " -0.74797   \n",
       "  1.19115   \n",
       "  1.15037   \n",
       " -1.76833   \n",
       " -1.09004   \n",
       " -0.205697  \n",
       "  1.6215    \n",
       " -0.286106  \n",
       " -0.00876614"
      ]
     },
     "execution_count": 75,
     "metadata": {},
     "output_type": "execute_result"
    }
   ],
   "source": [
    "D = zeros(m,n)\n",
    "\n",
    "for i=1:min(m,n)\n",
    "    \n",
    "  D[i,i] = 10 + rand()\n",
    "    \n",
    "end\n",
    "\n",
    "lambda_min = minimum(diag(D'*D))\n",
    "lambda_sum = sum(diag(D'*D))\n",
    "rho = 1- lambda_min/lambda_sum\n",
    "println(\"rho = \",rho)\n",
    "\n",
    "(U,RU) = qr(randn(m,m))\n",
    "(V,RV) = qr(randn(n,n))\n",
    "A = U*D*V'\n",
    "\n",
    "x_star = randn(n)\n",
    "b = A*x_star\n",
    "\n",
    "# C = A'*A\n",
    "# lambda_min = minimum(eigvals(C))\n",
    "# lambda_sum = sum(eigvals(C))\n",
    "# rate = 1 - lambda_min/tr\n",
    "# println(rate)"
   ]
  },
  {
   "cell_type": "markdown",
   "metadata": {},
   "source": [
    "## 2. The Generic Solver\n",
    "\n",
    "The two functions below implement the general version of the algorithm of Gower and Richtarik covered in the lecture today:\n",
    "\n",
    "$$ x \\leftarrow x - B^{-1} A^T S (S^T A B^{-1} A^T S)^\\dagger S^T (Ax-b). $$\n",
    "\n",
    "Recall that the general method has two parameters: an $n\\times n$ positive definite matrix $B$ defining a norm, and a random matrix $S$ defining the \"sketch\". Matrix $S$ has to have the right dimensions such that one can perform the following multiplication: $S^T A$. That is, $S$ has to have $m$ rows. However, it can have an arbitrary number of columns (one, more, or even random)."
   ]
  },
  {
   "cell_type": "code",
   "execution_count": 83,
   "metadata": {
    "collapsed": false
   },
   "outputs": [
    {
     "data": {
      "text/plain": [
       "RandomLinearSolve (generic function with 1 method)"
      ]
     },
     "execution_count": 83,
     "metadata": {},
     "output_type": "execute_result"
    }
   ],
   "source": [
    "function iterate(x, A, b, Binv, S)\n",
    "    \n",
    "    return x - Binv*A'*S*pinv(S'*A*Binv*A'*S)*S'*(A*x - b) # ' is the transpose operator, it has higher priority than *\n",
    "    \n",
    "end\n",
    "\n",
    "\n",
    "function RandomLinearSolve(x, A, b, Binv, sampling, T, skip)\n",
    "    \n",
    "    (m,n) = size(A)\n",
    "    xs = zeros(n, floor(Integer, T/skip) + 1) # will remember the iterates x here\n",
    "    fv = zeros(floor(Integer, T/skip) + 1)    # will remember residuals ||Ax-b|| here\n",
    "    \n",
    "    tic()\n",
    "    time = 0\n",
    "    \n",
    "    for t=0:T\n",
    "        tic()\n",
    "        x = iterate(x, A, b, Binv, sampling()) # notice that the last argument is a function\n",
    "        time = time + toq()\n",
    "        if t % skip == 0\n",
    "            xs[:,round(Int,t/skip)+1] = x           # remember iterate x\n",
    "            fv[round(Int,t/skip)+1] = norm(A*x-b)   # remeber residual \n",
    "            println(\"iteration: $(t), residual: $(fv[round(Int,t/skip+1)]) \")\n",
    "        end\n",
    "    end\n",
    "        \n",
    "    println(\"Time = \", time)\n",
    "    return xs,fv\n",
    "    \n",
    "end"
   ]
  },
  {
   "cell_type": "markdown",
   "metadata": {},
   "source": [
    "## 3. Sampling\n",
    "\n",
    "We now write a function which outputs a random matrix $S$ (\"sampling/sketching\") which is equal to a random coordinate vector in $\\mathbb{R}^m$ chosen uniformly at random. Recall that both the randomized Kaczmarz and randomized coordinate descent methods utilize this sampling/sketching. Also notice that standard randomized Kaczmarz uses nonuniform probabilities. \n",
    "\n",
    "${\\bf Problem:}$ You may want to modify the $\\verb\"sampling()\"$ function so that the probabilities are proportional to the squared norms of the rows of $A$ -- as initially proposed by Strohmer and Vershynin."
   ]
  },
  {
   "cell_type": "code",
   "execution_count": 77,
   "metadata": {
    "collapsed": false
   },
   "outputs": [
    {
     "data": {
      "text/plain": [
       "sampling (generic function with 1 method)"
      ]
     },
     "execution_count": 77,
     "metadata": {},
     "output_type": "execute_result"
    }
   ],
   "source": [
    "function sampling() # for non-uniform sampling, looks into the function \"sample\" in the package StatsBase\n",
    "    \n",
    "    S = zeros(m)\n",
    "    S[rand(1:m)] = 1 # rand(range) returns a random number in the given range\n",
    "    return S\n",
    "    \n",
    "end"
   ]
  },
  {
   "cell_type": "markdown",
   "metadata": {},
   "source": [
    "## 4. Plotting"
   ]
  },
  {
   "cell_type": "code",
   "execution_count": 78,
   "metadata": {
    "collapsed": false
   },
   "outputs": [
    {
     "data": {
      "text/plain": [
       "PlotResults (generic function with 1 method)"
      ]
     },
     "execution_count": 78,
     "metadata": {},
     "output_type": "execute_result"
    }
   ],
   "source": [
    "using PyPlot\n",
    "\n",
    "function PlotResults(B, x_star, xs, fv)\n",
    "    \n",
    "    ax = axes()\n",
    "    plt[:plot](skip*(0:length(fv)-1), fv, \"-\", linewidth=3.0, label=L\"||Ax - b||\")\n",
    "    plt[:plot](skip*(0:length(fv)-1), [sqrt((xs[:,i]-x_star)'*B*(xs[:,i]-x_star)) for i=1:length(fv)] , \":\", linewidth=3.0, label=L\"||x - x^*||_B\")\n",
    "    legend(loc=\"upper right\")\n",
    "    ylabel(\"error\", fontsize=20)\n",
    "    xlabel(\"iterations\")\n",
    "    ax[:set_yscale](\"log\")\n",
    "    plt[:show]\n",
    "    \n",
    "end"
   ]
  },
  {
   "cell_type": "markdown",
   "metadata": {},
   "source": [
    "## 5. Solve the problem"
   ]
  },
  {
   "cell_type": "code",
   "execution_count": 82,
   "metadata": {
    "collapsed": false
   },
   "outputs": [
    {
     "name": "stdout",
     "output_type": "stream",
     "text": [
      "iteration: 0, residual: 81.1318184147387 \n",
      "iteration: 100, residual: 28.061538029857452 \n",
      "iteration: 200, residual: 9.628608459636052 \n",
      "iteration: 300, residual: 3.458002696700712 \n",
      "iteration: 400, residual: 1.360105005354288 \n",
      "iteration: 500, residual: 0.6028422855792183 \n",
      "iteration: 600, residual: 0.18740359822190616 \n",
      "iteration: 700, residual: 0.07124850229391667 \n",
      "iteration: 800, residual: 0.023565613262080513 \n",
      "iteration: 900, residual: 0.0108018985173459 \n",
      "iteration: 1000, residual: 0.002734067263743863 \n",
      "iteration: 1100, residual: 0.0007288292014233471 \n",
      "iteration: 1200, residual: 0.00027077590111684955 \n",
      "iteration: 1300, residual: 8.308808574697304e-5 \n",
      "iteration: 1400, residual: 2.4203736115101168e-5 \n",
      "iteration: 1500, residual: 9.112723002839596e-6 \n",
      "iteration: 1600, residual: 3.519176341738644e-6 \n",
      "iteration: 1700, residual: 1.2569289075821847e-6 \n",
      "iteration: 1800, residual: 3.9096368662650536e-7 \n",
      "iteration: 1900, residual: 1.5709454959284916e-7 \n",
      "iteration: 2000, residual: 6.689231416177186e-8 \n",
      "iteration: 2100, residual: 2.9946875844287376e-8 \n",
      "iteration: 2200, residual: 1.02280957805594e-8 \n",
      "iteration: 2300, residual: 2.6012178416549056e-9 \n",
      "iteration: 2400, residual: 7.087720055832445e-10 \n",
      "iteration: 2500, residual: 2.772170220549675e-10 \n",
      "iteration: 2600, residual: 1.2018708704846946e-10 \n",
      "iteration: 2700, residual: 4.3137461704092176e-11 \n",
      "iteration: 2800, residual: 1.9253704965205233e-11 \n",
      "iteration: 2900, residual: 5.786641422056536e-12 \n",
      "iteration: 3000, residual: 2.584078128342829e-12 \n"
     ]
    },
    {
     "data": {
      "image/png": "[encoded data removed]",
      "text/plain": [
       "Figure(PyObject <matplotlib.figure.Figure object at 0x7f958b828110>)"
      ]
     },
     "metadata": {},
     "output_type": "display_data"
    },
    {
     "data": {
      "text/plain": [
       "display_figs (generic function with 1 method)"
      ]
     },
     "execution_count": 82,
     "metadata": {},
     "output_type": "execute_result"
    }
   ],
   "source": [
    "x = zeros(n)  # initial iterate\n",
    "Binv = eye(n) # matrix B is one of the 2 parameters of the method\n",
    "\n",
    "T = 3*m       # no of iterations \n",
    "skip = 100    # we shall remember x each \"skip\" number of iterations\n",
    "\n",
    "# Now we solve the problem\n",
    "xs, fv = RandomLinearSolve(x, A, b, Binv, sampling, T, skip)\n",
    "\n",
    "# Let us now plot the results\n",
    "B = inv(Binv)\n",
    "PlotResults(B, x_star, xs, fv)"
   ]
  },
  {
   "cell_type": "markdown",
   "metadata": {},
   "source": [
    "## Problem A\n",
    "\n",
    "Code up a dedicated randomized Kaczmarz solver. That is, do it in an efficient way so that one does not need to run the \"iterate\" function. Clearly, this function is rather inefficient - this is because it is so generic."
   ]
  },
  {
   "cell_type": "markdown",
   "metadata": {},
   "source": [
    "## Problem B\n",
    "\n",
    "Code up a dedicated randomized coordinate descent solver. Test it on a random problem for which $A^T A$ is positive definite. Test the solver for two choices of probabilities: uniform and proportional to squared Euclidean norms of the columns of $A$, as covered in the lecture."
   ]
  },
  {
   "cell_type": "markdown",
   "metadata": {},
   "source": [
    "## Problem C\n",
    "\n",
    "Code up the randomized Newton method. Do this for $S = I_{:C}$, where $C$ is a random subset of $\\{1,2,\\dots,n\\}$ of fixed cardinality $\\tau$ chosen uniformly at random. Test the method various choices of $\\tau$. Find a $3\\times 3$ matrix $A$ such that running the randomized Newton method with $\\tau=2$ is vastly (= as much as you want) better than running it with $\\tau=1$."
   ]
  },
  {
   "cell_type": "markdown",
   "metadata": {},
   "source": [
    "## Problem D\n",
    "\n",
    "Code up and test the Gaussian descent variant of the method."
   ]
  },
  {
   "cell_type": "markdown",
   "metadata": {},
   "source": [
    "## Problem E\n",
    "\n",
    "Can you come up with some other interesting sketching matrix $S$ not covered in the lecture? When would you use it? "
   ]
  },
  {
   "cell_type": "code",
   "execution_count": null,
   "metadata": {
    "collapsed": true
   },
   "outputs": [],
   "source": []
  }
 ],
 "metadata": {
  "kernelspec": {
   "display_name": "Julia 0.3.11",
   "language": "julia",
   "name": "julia-0.3"
  },
  "language_info": {
   "file_extension": ".jl",
   "mimetype": "application/julia",
   "name": "julia",
   "version": "0.3.11"
  }
 },
 "nbformat": 4,
 "nbformat_minor": 0
}
